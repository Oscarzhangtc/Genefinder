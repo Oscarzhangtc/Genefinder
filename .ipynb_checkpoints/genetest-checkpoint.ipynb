{
 "cells": [
  {
   "cell_type": "code",
   "execution_count": 9,
   "metadata": {},
   "outputs": [
    {
     "data": {
      "text/plain": [
       "'ATG'"
      ]
     },
     "execution_count": 9,
     "metadata": {},
     "output_type": "execute_result"
    }
   ],
   "source": [
    "def rest_of_ORF(dna):\n",
    "    \"\"\" Takes a DNA sequence that is assumed to begin with a start\n",
    "        codon and returns the sequence up to but not including the\n",
    "        first in frame stop codon.  If there is no in frame stop codon,\n",
    "        returns the whole string.\n",
    "\n",
    "        dna: a DNA sequence\n",
    "        returns: the open reading frame represented as a string\n",
    "    >>> rest_of_ORF(\"ATGTGAA\")\n",
    "    'ATG'\n",
    "    >>> rest_of_ORF(\"ATGAGATAGG\")\n",
    "    'ATGAGA'\n",
    "    \"\"\"\n",
    "    i = 0\n",
    "    stop = len(dna)\n",
    "    while i <= (stop/3):\n",
    "        # here we basically divide the entire dna into sets of 3s\n",
    "        # we can run the loop number of set times\n",
    "        # e.g if there are 4 sets of characters(total length of 12 characters), we would run the loop 4 times\n",
    "        if (dna[ 3 * i : 3 * i + 3]== 'TAG' or dna[ 3 * i : 3 * i + 3]=='TGA' or dna[3*i:3*i+3]=='TAA'):\n",
    "            stop = i*3\n",
    "            # run through evey set of 3, and record the index when a set = stop codon\n",
    "            break\n",
    "\n",
    "        else:\n",
    "            i+=1\n",
    "    return dna[:stop]\n",
    "    # return the dna string up to the stopping point \n",
    "    # TODO: implement this\n",
    "    pass\n",
    "\n",
    "rest_of_ORF(\"ATGTGAATGA\")"
   ]
  },
  {
   "cell_type": "code",
   "execution_count": 30,
   "metadata": {},
   "outputs": [
    {
     "data": {
      "text/plain": [
       "['ATGCATGAATGTAGA', 'ATGTGCCC']"
      ]
     },
     "execution_count": 30,
     "metadata": {},
     "output_type": "execute_result"
    }
   ],
   "source": [
    "def find_all_ORFs_oneframe(dna):\n",
    "    \"\"\" Finds all non-nested open reading frames in the given DNA\n",
    "        sequence and returns them as a list.  This function should\n",
    "        only find ORFs that are in the default frame of the sequence\n",
    "        (i.e. they start on indices that are multiples of 3).\n",
    "        By non-nested we mean that if an ORF occurs entirely within\n",
    "        another ORF, it should not be included in the returned list of ORFs.\n",
    "\n",
    "        dna: a DNA sequence\n",
    "        returns: a list of non-nested ORFs\n",
    "    >>> find_all_ORFs_oneframe(\"ATGCATGAATGTAGATAGATGTGCCC\")\n",
    "    ['ATGCATGAATGTAGA', 'ATGTGCCC']\n",
    "    >>> find_all_ORFs_oneframe(\"ATGATGCATGAATGTAGATAGATGTGCCC\")\n",
    "    ['ATGATGCATGAATGTAGA', 'ATGTGCCC']\n",
    "    ensures the returned frame always starts at the 1st start codon\n",
    "    \"\"\"\n",
    "    # initialize the start points, and frame\n",
    "    one_frame = []\n",
    "    start_codon = 'ATG'\n",
    "    start_point = -1\n",
    "    while len(dna)/3 >= 1:\n",
    "        # ensure length of dna is larger than 3\n",
    "        i = 0\n",
    "        while i <= len(dna)/3:\n",
    "            if (dna[i * 3: i * 3 +3] == start_codon):\n",
    "                start_point = 3*i\n",
    "                break\n",
    "            else:\n",
    "                i += 1\n",
    "            # not breaking until we find the start codon\n",
    "        if (start_point!=-1):\n",
    "            # continues if we find start codon\n",
    "            dna = dna[start_point:]\n",
    "            # returns the remainder of the dna from its start codon\n",
    "        else:\n",
    "            return one_frame\n",
    "        orf = rest_of_ORF(dna)\n",
    "        # orf = dna starting with a start_codon up to its stop codon(not included)\n",
    "        cut = len(dna)-len(orf)-3\n",
    "        # how much is cut off\n",
    "        start_point = len(dna)- cut\n",
    "        # reset start point to equal to the place its cut off\n",
    "        dna = dna[start_point:]\n",
    "        # reset dna \n",
    "        one_frame.append(orf)\n",
    "        # append the orf to one_frame list\n",
    "        # the process repeats as long the remaining dna is > 3 characters\n",
    "    one_frame = list(filter(None, one_frame))\n",
    "    return one_frame\n",
    "    # TODO: implement this\n",
    "    pass\n",
    "\n",
    "\n",
    "find_all_ORFs_oneframe(\"ATGCATGAATGTAGATAGATGTGCCC\")"
   ]
  },
  {
   "cell_type": "code",
   "execution_count": 36,
   "metadata": {},
   "outputs": [
    {
     "data": {
      "text/plain": [
       "['ATGCATGAATGTAGTAG', 'ATGAATGTAGTAG', 'ATG']"
      ]
     },
     "execution_count": 36,
     "metadata": {},
     "output_type": "execute_result"
    }
   ],
   "source": [
    "def find_all_ORFs(dna):\n",
    "    \"\"\" Finds all non-nested open reading frames in the given DNA sequence in\n",
    "        all 3 possible frames and returns them as a list.  By non-nested we\n",
    "        mean that if an ORF occurs entirely within another ORF and they are\n",
    "        both in the same frame, it should not be included in the returned list\n",
    "        of ORFs.\n",
    "\n",
    "        dna: a DNA sequence\n",
    "        returns: a list of non-nested ORFs\n",
    "\n",
    "    >>> find_all_ORFs(\"ATGCATGAATGTAG\")\n",
    "    ['ATGCATGAATGTAG', 'ATGAATGTAG', 'ATG']\n",
    "    >>> find_all_ORFs(\"TAGATGCATGAATGTAGTAG\")\n",
    "    ['ATGCATGAATGTAGTAG', 'ATGAATGTAGTAG', 'ATG']\n",
    "    \"\"\"\n",
    "    orf_list = []\n",
    "    for a in range(0 , 3):\n",
    "        # runs 3 times to find all 3 possible frams\n",
    "        dna1= dna[a: ]\n",
    "        orf1 = find_all_ORFs_oneframe(dna1)\n",
    "        orf_list.extend(orf1)\n",
    "        # combine the resulting arrays in to a single one\n",
    "    return orf_list\n",
    "    # TODO: implement this\n",
    "    pass\n"
   ]
  },
  {
   "cell_type": "code",
   "execution_count": null,
   "metadata": {},
   "outputs": [],
   "source": []
  }
 ],
 "metadata": {
  "kernelspec": {
   "display_name": "Python 3",
   "language": "python",
   "name": "python3"
  },
  "language_info": {
   "codemirror_mode": {
    "name": "ipython",
    "version": 3
   },
   "file_extension": ".py",
   "mimetype": "text/x-python",
   "name": "python",
   "nbconvert_exporter": "python",
   "pygments_lexer": "ipython3",
   "version": "3.7.4"
  }
 },
 "nbformat": 4,
 "nbformat_minor": 2
}
